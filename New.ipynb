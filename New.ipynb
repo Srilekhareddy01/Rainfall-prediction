{
  "cells": [
    {
      "cell_type": "markdown",
      "metadata": {
        "id": "view-in-github",
        "colab_type": "text"
      },
      "source": [
        "<a href=\"https://colab.research.google.com/github/Srilekhareddy01/Rainfall-prediction/blob/main/New.ipynb\" target=\"_parent\"><img src=\"https://colab.research.google.com/assets/colab-badge.svg\" alt=\"Open In Colab\"/></a>"
      ]
    },
    {
      "cell_type": "markdown",
      "source": [
        "# Importing all the packages and modules required for running the code successfully"
      ],
      "metadata": {
        "id": "SJrXI0aHsWXM"
      }
    },
    {
      "cell_type": "code",
      "execution_count": 26,
      "metadata": {
        "id": "bIi21R1xbERe"
      },
      "outputs": [],
      "source": [
        "from sklearn.neural_network import MLPRegressor\n",
        "from sklearn.preprocessing import StandardScaler\n",
        "from sklearn.model_selection import train_test_split,  GridSearchCV\n",
        "from sklearn.metrics import accuracy_score, classification_report, confusion_matrix, mean_squared_error\n",
        "import numpy as np\n",
        "import pandas as pd\n",
        "import xgboost as xgb\n",
        "from sklearn.metrics import accuracy_score\n",
        "from sklearn.linear_model import LinearRegression\n",
        "from sklearn.cluster import KMeans\n",
        "from sklearn.preprocessing import MinMaxScaler\n",
        "from sklearn.svm import SVR\n",
        "from sklearn.neighbors import KNeighborsRegressor\n",
        "from sklearn.ensemble import RandomForestRegressor\n",
        "from keras.models import Sequential\n",
        "from keras.layers import Conv1D, MaxPooling1D, Flatten, Dense\n",
        "from keras.optimizers import Adam\n",
        "import matplotlib.pyplot as plt\n",
        "from sklearn.linear_model import Ridge\n",
        "from sklearn.svm import SVC\n",
        "from xgboost import XGBClassifier\n",
        "from sklearn.linear_model import LogisticRegression\n",
        "from sklearn.tree import DecisionTreeClassifier\n",
        "from xgboost import XGBRegressor\n",
        "from sklearn import tree\n",
        "from sklearn.kernel_approximation import RBFSampler\n",
        "from keras.models import Sequential\n",
        "from keras.layers import Dense\n",
        "from keras.layers import LSTM, Dense\n",
        "import seaborn as sns\n",
        "from sklearn.pipeline import make_pipeline\n",
        "import tensorflow as tf\n"
      ]
    },
    {
      "cell_type": "markdown",
      "source": [
        "# Importing the data into data variable and extracting input data and output data separately"
      ],
      "metadata": {
        "id": "1nk73BfashX1"
      }
    },
    {
      "cell_type": "code",
      "execution_count": 9,
      "metadata": {
        "colab": {
          "base_uri": "https://localhost:8080/"
        },
        "id": "O_QSb7FebI4v",
        "outputId": "fc6264c5-9eea-47c8-d0b1-b9b832e53e23"
      },
      "outputs": [
        {
          "output_type": "stream",
          "name": "stdout",
          "text": [
            "   Unnamed: 0  TempHighF  TempAvgF  TempLowF  DewPointHighF  DewPointAvgF  \\\n",
            "0           0         74        60        45           67.0          49.0   \n",
            "1           1         56        48        39           43.0          36.0   \n",
            "2           2         58        45        32           31.0          27.0   \n",
            "3           3         61        46        31           36.0          28.0   \n",
            "4           4         58        50        41           44.0          40.0   \n",
            "\n",
            "   DewPointLowF  HumidityHighPercent  HumidityAvgPercent  HumidityLowPercent  \\\n",
            "0          43.0                 93.0                75.0                57.0   \n",
            "1          28.0                 93.0                68.0                43.0   \n",
            "2          23.0                 76.0                52.0                27.0   \n",
            "3          21.0                 89.0                56.0                22.0   \n",
            "4          36.0                 86.0                71.0                56.0   \n",
            "\n",
            "   SeaLevelPressureAvgInches  VisibilityHighMiles  VisibilityAvgMiles  \\\n",
            "0                      29.68                 10.0                 7.0   \n",
            "1                      30.13                 10.0                10.0   \n",
            "2                      30.49                 10.0                10.0   \n",
            "3                      30.45                 10.0                10.0   \n",
            "4                      30.33                 10.0                10.0   \n",
            "\n",
            "   VisibilityLowMiles  WindHighMPH  WindAvgMPH  WindGustMPH  \\\n",
            "0                 2.0         20.0         4.0         31.0   \n",
            "1                 5.0         16.0         6.0         25.0   \n",
            "2                10.0          8.0         3.0         12.0   \n",
            "3                 7.0         12.0         4.0         20.0   \n",
            "4                 7.0         10.0         2.0         16.0   \n",
            "\n",
            "   PrecipitationSumInches  \n",
            "0                    0.46  \n",
            "1                    0.00  \n",
            "2                    0.00  \n",
            "3                    0.00  \n",
            "4                    0.00  \n"
          ]
        }
      ],
      "source": [
        "data = pd.read_csv(r\"/content/austin_final.csv\")\n",
        "X = data.drop(['PrecipitationSumInches'], axis=1)\n",
        "print(data.head())\n",
        "y = data['PrecipitationSumInches']\n",
        "y = y.values.reshape(-1, 1)\n",
        "day_index = 798\n",
        "days = [i for i in range(y.size)]\n"
      ]
    },
    {
      "cell_type": "markdown",
      "source": [
        "# Splitting the dataset into training and testing data"
      ],
      "metadata": {
        "id": "UMN2c-LAs5Ze"
      }
    },
    {
      "cell_type": "code",
      "execution_count": 5,
      "metadata": {
        "id": "cQKhxY2QjkbD"
      },
      "outputs": [],
      "source": [
        "X_train, X_test, y_train, y_test = train_test_split(X, y, test_size=0.2, random_state=42)\n",
        "inp = np.array([[74], [60], [45], [67], [49], [43], [33], [45],\n",
        "                [57], [29.68], [10], [7], [2], [0], [20], [4], [31]])\n",
        "\n",
        "inp = inp.reshape(1, -1)"
      ]
    },
    {
      "cell_type": "markdown",
      "source": [
        "# Scaling the data"
      ],
      "metadata": {
        "id": "z5Mi72WhtGic"
      }
    },
    {
      "cell_type": "code",
      "execution_count": 6,
      "metadata": {
        "id": "098oB9NCVT8M"
      },
      "outputs": [],
      "source": [
        "scaler = StandardScaler()\n",
        "X_train_scaled = scaler.fit_transform(X_train)\n",
        "X_test_scaled = scaler.transform(X_test)"
      ]
    },
    {
      "cell_type": "code",
      "source": [
        "model = RandomForestRegressor(n_estimators=100, random_state=42)\n",
        "model.fit(X_train, y_train)\n",
        "\n",
        "# Predict on the test set\n",
        "y_pred = model.predict(X_test)\n",
        "\n",
        "# Evaluate the model\n",
        "mse = mean_squared_error(y_test, y_pred)\n",
        "rmse = np.sqrt(mse)\n",
        "print(f'Mean Squared Error:{mse}')\n",
        "print(f'Root Mean Squared Error: {rmse}')\n",
        "print('The precipitation in inches for the input is:', model.predict(inp))\n",
        "\n",
        "print('The precipitation trend graph: ')\n",
        "plt.scatter(days, y, color='g')\n",
        "plt.scatter(days[day_index], y[day_index], color='r')\n",
        "plt.title('Precipitation level')\n",
        "plt.xlabel('Days')\n",
        "plt.ylabel('Precipitation in inches')\n",
        "\n",
        "# Plot a graph of precipitation levels vs n# of days\n",
        "plt.show()"
      ],
      "metadata": {
        "colab": {
          "base_uri": "https://localhost:8080/",
          "height": 631
        },
        "id": "sbihDnCCXRkl",
        "outputId": "7378beb1-10c4-4e9e-ad53-5b31baad3d5b"
      },
      "execution_count": 7,
      "outputs": [
        {
          "output_type": "stream",
          "name": "stderr",
          "text": [
            "<ipython-input-7-e0ee75a2d34a>:2: DataConversionWarning: A column-vector y was passed when a 1d array was expected. Please change the shape of y to (n_samples,), for example using ravel().\n",
            "  model.fit(X_train, y_train)\n"
          ]
        },
        {
          "output_type": "stream",
          "name": "stdout",
          "text": [
            "Mean Squared Error:0.08082251291666667\n",
            "Root Mean Squared Error: 0.2842930053952553\n",
            "The precipitation in inches for the input is: [0.7638]\n",
            "The precipitation trend graph: \n"
          ]
        },
        {
          "output_type": "stream",
          "name": "stderr",
          "text": [
            "/usr/local/lib/python3.10/dist-packages/sklearn/base.py:439: UserWarning: X does not have valid feature names, but RandomForestRegressor was fitted with feature names\n",
            "  warnings.warn(\n"
          ]
        },
        {
          "output_type": "display_data",
          "data": {
            "text/plain": [
              "<Figure size 640x480 with 1 Axes>"
            ],
            "image/png": "[encoded data removed]"
          },
          "metadata": {}
        }
      ]
    },
    {
      "cell_type": "code",
      "source": [
        "model = XGBRegressor(n_estimators=100, random_state=42)\n",
        "model.fit(X_train, y_train)\n",
        "\n",
        "# Predict on the test set\n",
        "y_pred = model.predict(X_test)\n",
        "\n",
        "# Evaluate the model\n",
        "mse = mean_squared_error(y_test, y_pred)\n",
        "rmse = np.sqrt(mse)\n",
        "print(f'Root Mean Squared Error: {rmse}')\n",
        "print('The precipitation in inches for the input is:', model.predict(inp))\n"
      ],
      "metadata": {
        "id": "qj7wj5msYpVV",
        "outputId": "023224b0-e507-4bd8-daaa-64e862f5c77c",
        "colab": {
          "base_uri": "https://localhost:8080/"
        }
      },
      "execution_count": 17,
      "outputs": [
        {
          "output_type": "stream",
          "name": "stdout",
          "text": [
            "Root Mean Squared Error: 0.257784728353874\n",
            "The precipitation in inches for the input is: [0.13298559]\n"
          ]
        }
      ]
    },
    {
      "cell_type": "code",
      "source": [
        "model = SVR(kernel='rbf')\n",
        "model.fit(X_train, y_train)\n",
        "\n",
        "# Predict and evaluate\n",
        "y_pred = model.predict(X_test)\n",
        "rmse = np.sqrt(mean_squared_error(y_test, y_pred))\n",
        "print(f'SVR RMSE: {rmse}')\n",
        "print('The precipitation in inches for the input is:', model.predict(inp))"
      ],
      "metadata": {
        "id": "HCyXzGUxbT3Y",
        "outputId": "ad4839bc-010c-4549-d070-d1496eab3b63",
        "colab": {
          "base_uri": "https://localhost:8080/"
        }
      },
      "execution_count": 20,
      "outputs": [
        {
          "output_type": "stream",
          "name": "stdout",
          "text": [
            "SVR RMSE: 0.33537117549682693\n",
            "The precipitation in inches for the input is: [0.07861242]\n"
          ]
        },
        {
          "output_type": "stream",
          "name": "stderr",
          "text": [
            "/usr/local/lib/python3.10/dist-packages/sklearn/utils/validation.py:1143: DataConversionWarning: A column-vector y was passed when a 1d array was expected. Please change the shape of y to (n_samples, ), for example using ravel().\n",
            "  y = column_or_1d(y, warn=True)\n",
            "/usr/local/lib/python3.10/dist-packages/sklearn/base.py:439: UserWarning: X does not have valid feature names, but SVR was fitted with feature names\n",
            "  warnings.warn(\n"
          ]
        }
      ]
    },
    {
      "cell_type": "code",
      "source": [
        "model = MLPRegressor(hidden_layer_sizes=(100, 100), max_iter=500, random_state=42)\n",
        "model.fit(X_train, y_train)\n",
        "\n",
        "# Predict and evaluate\n",
        "y_pred = model.predict(X_test)\n",
        "rmse = np.sqrt(mean_squared_error(y_test, y_pred))\n",
        "print(f'Neural Network RMSE: {rmse}')\n",
        "print('The precipitation in inches for the input is:', model.predict(inp))"
      ],
      "metadata": {
        "id": "4sXjeI_JbyxP",
        "outputId": "f22be6b1-6f73-464c-d447-de681a860eb9",
        "colab": {
          "base_uri": "https://localhost:8080/"
        }
      },
      "execution_count": 22,
      "outputs": [
        {
          "output_type": "stream",
          "name": "stderr",
          "text": [
            "/usr/local/lib/python3.10/dist-packages/sklearn/neural_network/_multilayer_perceptron.py:1623: DataConversionWarning: A column-vector y was passed when a 1d array was expected. Please change the shape of y to (n_samples, ), for example using ravel().\n",
            "  y = column_or_1d(y, warn=True)\n"
          ]
        },
        {
          "output_type": "stream",
          "name": "stdout",
          "text": [
            "Neural Network RMSE: 0.6516059456588578\n",
            "The precipitation in inches for the input is: [1.65360953]\n"
          ]
        },
        {
          "output_type": "stream",
          "name": "stderr",
          "text": [
            "/usr/local/lib/python3.10/dist-packages/sklearn/base.py:439: UserWarning: X does not have valid feature names, but MLPRegressor was fitted with feature names\n",
            "  warnings.warn(\n"
          ]
        }
      ]
    }
  ],
  "metadata": {
    "colab": {
      "provenance": [],
      "include_colab_link": true
    },
    "kernelspec": {
      "display_name": "Python 3",
      "name": "python3"
    },
    "language_info": {
      "name": "python"
    }
  },
  "nbformat": 4,
  "nbformat_minor": 0
}